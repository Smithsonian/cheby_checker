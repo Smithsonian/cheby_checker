{
 "cells": [
  {
   "cell_type": "markdown",
   "metadata": {},
   "source": [
    "# Demonstration of anticipated end-to-end usage of Orbit PreCalculations for \"Checking\"\n",
    " - This is the expected usage to use stored cheby polynomials (& nightly-healpix) from the database to perform various \"checking\" functions\n",
    " \n",
    " - At present (20200618) this is incomplete and intended as a schematic to aid development"
   ]
  },
  {
   "cell_type": "markdown",
   "metadata": {},
   "source": [
    "#### Basic imports ..."
   ]
  },
  {
   "cell_type": "code",
   "execution_count": 8,
   "metadata": {},
   "outputs": [
    {
     "name": "stdout",
     "output_type": "stream",
     "text": [
      " HEAD_DIR: /Users/matthewjohnpayne/Envs/cheby_checker \n"
     ]
    }
   ],
   "source": [
    "import time\n",
    "import numpy as np\n",
    "import scipy.stats as stats\n",
    "import math\n",
    "import random\n",
    "from collections import defaultdict\n",
    "import os\n",
    "import sys\n",
    "from collections import Counter\n",
    "import glob \n",
    "import warnings\n",
    "import warnings\n",
    "warnings.filterwarnings('ignore')\n",
    "import matplotlib.pyplot as plt\n",
    "import importlib\n",
    "from astropy.time import Time\n",
    "import pickle\n",
    "\n",
    "\n",
    "# -------------------------------------------------------------------------------------\n",
    "# Local imports\n",
    "# -------------------------------------------------------------------------------------\n",
    "\n",
    "# parent directory is */cheby_checker\n",
    "HEAD_DIR = os.path.dirname(os.path.realpath(os.getcwd())) \n",
    "sys.path.append(os.path.join(HEAD_DIR))\n",
    "print(f' HEAD_DIR: {HEAD_DIR} ')\n",
    "\n",
    "# Import ephemeris code \n",
    "from cheby_checker import ephem\n",
    "\n",
    "\n"
   ]
  },
  {
   "cell_type": "markdown",
   "metadata": {},
   "source": [
    "# Ensure there is something in the database \n",
    " - We need there to be something in the database to allow us to run queries \n",
    " - Therefore we need to run functions similar to those in \"Demonstrate_EndToEnd_Orbit_Precalc.ipynb\"\n",
    " - I am going to comment-out the cell below, as the content of \"Demonstrate_EndToEnd_Orbit_Precalc.ipynb\" is actively being updated by MA today (2020-10-23), so anything I put below will definitely be out-of-date, hence needs to be replaced"
   ]
  },
  {
   "cell_type": "code",
   "execution_count": null,
   "metadata": {},
   "outputs": [],
   "source": [
    "'''\n",
    "# NBODY\n",
    "# Define some files that have data in them \n",
    "filenames = [os.path.join(DATA_DIR, file)\n",
    "              for file in ['30101.eq0_horizons', '30102.eq0_horizons']]\n",
    "Sim = mpc_nbody.NbodySim(filenames[0], 'eq')\n",
    "Sim(tstep=20, trange=600)\n",
    "\n",
    "\n",
    "# MSC \n",
    "MSCs = orbit_cheby.MSC_Loader(FROM_ARRAY = True , \n",
    "                                primary_unpacked_provisional_designations = name, \n",
    "                                times_TDB = times, \n",
    "                                statearray = states).MSCs\n",
    "# PRECALC\n",
    "P = precalc.PreCalc()\n",
    "P.upsert( MSCs )\n",
    "\n",
    "'''"
   ]
  },
  {
   "cell_type": "markdown",
   "metadata": {},
   "source": [
    "## Ephemeris Call\n",
    " - How to get the position, etc, for a known, named object \n",
    " - Allow Ephem to take obsCode or observatoryXYZ @ each of the times"
   ]
  },
  {
   "cell_type": "code",
   "execution_count": 10,
   "metadata": {},
   "outputs": [
    {
     "ename": "NameError",
     "evalue": "name 'times' is not defined",
     "output_type": "error",
     "traceback": [
      "\u001b[0;31m---------------------------------------------------------------------------\u001b[0m",
      "\u001b[0;31mNameError\u001b[0m                                 Traceback (most recent call last)",
      "\u001b[0;32m<ipython-input-10-a60c25119747>\u001b[0m in \u001b[0;36m<module>\u001b[0;34m\u001b[0m\n\u001b[1;32m      4\u001b[0m \u001b[0;31m# Declare the Ephem object:\u001b[0m\u001b[0;34m\u001b[0m\u001b[0;34m\u001b[0m\u001b[0;34m\u001b[0m\u001b[0m\n\u001b[1;32m      5\u001b[0m \u001b[0;31m# - This will populate MSC(s) by querying the database\u001b[0m\u001b[0;34m\u001b[0m\u001b[0;34m\u001b[0m\u001b[0;34m\u001b[0m\u001b[0m\n\u001b[0;32m----> 6\u001b[0;31m \u001b[0mEph\u001b[0m \u001b[0;34m=\u001b[0m \u001b[0mephem\u001b[0m\u001b[0;34m.\u001b[0m\u001b[0mEphem\u001b[0m\u001b[0;34m(\u001b[0m\u001b[0mdesignations\u001b[0m\u001b[0;34m,\u001b[0m \u001b[0mtimes\u001b[0m\u001b[0;34m,\u001b[0m \u001b[0mobsCode\u001b[0m \u001b[0;34m=\u001b[0m \u001b[0;34m'F51'\u001b[0m\u001b[0;34m)\u001b[0m\u001b[0;34m\u001b[0m\u001b[0;34m\u001b[0m\u001b[0m\n\u001b[0m\u001b[1;32m      7\u001b[0m \u001b[0;34m\u001b[0m\u001b[0m\n\u001b[1;32m      8\u001b[0m \u001b[0;31m# Get the sky-plane positions and uncertainties\u001b[0m\u001b[0;34m\u001b[0m\u001b[0;34m\u001b[0m\u001b[0;34m\u001b[0m\u001b[0m\n",
      "\u001b[0;31mNameError\u001b[0m: name 'times' is not defined"
     ]
    }
   ],
   "source": [
    "# designations to use: need to match the above names used to populate the database w/ test data\n",
    "designations = ['30101', '30102']\n",
    "\n",
    "# Declare the Ephem object: \n",
    "# - This will populate MSC(s) by querying the database\n",
    "Eph = ephem.Ephem(designations, Sim.times, obsCode = 'F51')\n",
    "\n",
    "# Get the sky-plane positions and uncertainties\n",
    "# (other methods could/should be created to return, e.g., heliocentric coords)\n",
    "prediction_dict = Eph.generate_sky_predictions()\n",
    "\n",
    "assert isinstance(prediction_dict, dict)\n",
    "for k,v in prediction_dict.items():\n",
    "    assert isinstance(v, data_classes.Detections )"
   ]
  },
  {
   "cell_type": "markdown",
   "metadata": {},
   "source": [
    "## Position Check\n",
    " - How to get residuals (and their significance) between input observations and a named, known object"
   ]
  },
  {
   "cell_type": "code",
   "execution_count": null,
   "metadata": {},
   "outputs": [],
   "source": [
    "Check().posn_check(primary_unpacked_provisional_designation,  detections )\n"
   ]
  },
  {
   "cell_type": "markdown",
   "metadata": {},
   "source": [
    "## MPChecker \n",
    " - How to get objects \"close to\" a pointing"
   ]
  },
  {
   "cell_type": "code",
   "execution_count": null,
   "metadata": {},
   "outputs": [],
   "source": [
    "Check.mpchecker( pointings_object )"
   ]
  },
  {
   "cell_type": "markdown",
   "metadata": {},
   "source": [
    "## CheckID \n",
    " - How to get the identity of unnamed observations (i.e. whether they are consistent with any named, known object(s))"
   ]
  },
  {
   "cell_type": "code",
   "execution_count": null,
   "metadata": {},
   "outputs": [],
   "source": [
    "Check.checkid( detections )"
   ]
  },
  {
   "cell_type": "markdown",
   "metadata": {},
   "source": [
    "## CheckIDX\n",
    " - Extending CheckID to allow for objects with highly uncertain mean-anomalies"
   ]
  },
  {
   "cell_type": "code",
   "execution_count": null,
   "metadata": {},
   "outputs": [],
   "source": [
    "Check.checkidX( detections )"
   ]
  }
 ],
 "metadata": {
  "kernelspec": {
   "display_name": "Python 3",
   "language": "python",
   "name": "python3"
  },
  "language_info": {
   "codemirror_mode": {
    "name": "ipython",
    "version": 3
   },
   "file_extension": ".py",
   "mimetype": "text/x-python",
   "name": "python",
   "nbconvert_exporter": "python",
   "pygments_lexer": "ipython3",
   "version": "3.8.3"
  }
 },
 "nbformat": 4,
 "nbformat_minor": 4
}
