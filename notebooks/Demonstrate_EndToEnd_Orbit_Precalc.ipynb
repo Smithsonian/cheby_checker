{
 "cells": [
  {
   "cell_type": "markdown",
   "metadata": {},
   "source": [
    "# Demonstration of anticipated end-to-end creation of Orbit PreCalculations\n",
    " - This is the expected usage to go from a newly-fitted orbit, to the storage of cheby polynomials & nightly-healpix in a database\n",
    " \n",
    " - At present (20200618) this is incomplete and intended as a schematic to aid development"
   ]
  },
  {
   "cell_type": "markdown",
   "metadata": {},
   "source": [
    "#### Basic imports ..."
   ]
  },
  {
   "cell_type": "code",
   "execution_count": 1,
   "metadata": {},
   "outputs": [
    {
     "name": "stdout",
     "output_type": "stream",
     "text": [
      " HEAD_DIR: /Users/matthewjohnpayne/Envs/cheby_checker \n",
      " DATA_DIR: /Users/matthewjohnpayne/Envs/cheby_checker/dev_data \n"
     ]
    },
    {
     "data": {
      "text/plain": [
       "'\\n# orbit_cheby & nbody_reader imports \\n#sys.path.append( \"/Users/matthewjohnpayne/Envs/orbit_cheby/orbit_cheby/\" )\\nfrom orbit_cheby import orbit_cheby\\nfrom orbit_cheby import nbody_reader\\nimportlib.reload(orbit_cheby)\\nimportlib.reload(nbody_reader)\\n\\n# obs_pos import(s) \\nfrom orbit_cheby import obs_pos\\nimportlib.reload(obs_pos)\\n\\n# sql import(s) \\nfrom orbit_cheby import sql\\nimportlib.reload(sql)\\n\\n# PreCalc import(s) \\nfrom orbit_cheby import precalc\\nimportlib.reload(precalc)\\n'"
      ]
     },
     "execution_count": 1,
     "metadata": {},
     "output_type": "execute_result"
    }
   ],
   "source": [
    "import time\n",
    "import numpy as np\n",
    "import scipy.stats as stats\n",
    "import math\n",
    "import random\n",
    "from collections import defaultdict\n",
    "import os\n",
    "import sys\n",
    "from collections import Counter\n",
    "import glob \n",
    "import warnings\n",
    "import warnings\n",
    "warnings.filterwarnings('ignore')\n",
    "import matplotlib.pyplot as plt\n",
    "import importlib\n",
    "from astropy.time import Time\n",
    "import pickle\n",
    "\n",
    "\n",
    "# -------------------------------------------------------------------------------------\n",
    "# Local imports\n",
    "# -------------------------------------------------------------------------------------\n",
    "\n",
    "# parent directory is */cheby_checker\n",
    "HEAD_DIR = os.path.dirname(os.path.realpath(os.getcwd())) \n",
    "sys.path.append(os.path.join(HEAD_DIR))\n",
    "print(f' HEAD_DIR: {HEAD_DIR} ')\n",
    "\n",
    "# directory with sample data for development\n",
    "DATA_DIR = os.path.join(HEAD_DIR, 'dev_data')\n",
    "print(f' DATA_DIR: {DATA_DIR} ')\n",
    "\n",
    "# import nbody-related code from main cheby_checker directory\n",
    "from cheby_checker import mpc_nbody, parse_input, orbit_cheby, precalc, sql\n",
    "importlib.reload(mpc_nbody)\n",
    "importlib.reload(precalc)\n",
    "\n",
    "\"\"\"\n",
    "# orbit_cheby & nbody_reader imports \n",
    "#sys.path.append( \"/Users/matthewjohnpayne/Envs/orbit_cheby/orbit_cheby/\" )\n",
    "from orbit_cheby import orbit_cheby\n",
    "from orbit_cheby import nbody_reader\n",
    "importlib.reload(orbit_cheby)\n",
    "importlib.reload(nbody_reader)\n",
    "\n",
    "# obs_pos import(s) \n",
    "from orbit_cheby import obs_pos\n",
    "importlib.reload(obs_pos)\n",
    "\n",
    "# sql import(s) \n",
    "from orbit_cheby import sql\n",
    "importlib.reload(sql)\n",
    "\n",
    "# PreCalc import(s) \n",
    "from orbit_cheby import precalc\n",
    "importlib.reload(precalc)\n",
    "\"\"\""
   ]
  },
  {
   "cell_type": "markdown",
   "metadata": {},
   "source": [
    "# (1) End-to-End Precalc:\n",
    "Convenience wrapper to do all of the calculations based on the output from an OrbFit run:\n",
    "\n",
    "(a) Does an NBody integration \n",
    "\n",
    "(b) Gets a Chebyshev Representation of the orbit \n",
    "\n",
    "(c) Upserts results into database, along with nightly-location pre-calculations"
   ]
  },
  {
   "cell_type": "raw",
   "metadata": {},
   "source": [
    "# Define some files that have data in them \n",
    "filenames = [os.path.join(DATA_DIR, file)\n",
    "              for file in ['30101.eq0_horizons', '30102.eq0_horizons']]\n",
    "\n",
    "# Declare a \"PreCalc\" object \n",
    "P = precalc.PreCalc()\n",
    "\n",
    "# Call the \"end_to_end_precalc\" function\n",
    "P.end_to_end_precalc( filenames )"
   ]
  },
  {
   "cell_type": "markdown",
   "metadata": {},
   "source": [
    "# (2) Sub-components that go into (1) above ..."
   ]
  },
  {
   "cell_type": "markdown",
   "metadata": {},
   "source": [
    "### (2a) Use *mpc_nbody*\n",
    " - Perform NBody simulation on results from OrbFit\n",
    " - mpc_nbody is a convenience wrapper around Holman's version of reboundx\n",
    " - The notebook *Demonstate_Functionality_mpc_nbody.ipynb* contains more detailed demonstrations"
   ]
  },
  {
   "cell_type": "code",
   "execution_count": 2,
   "metadata": {},
   "outputs": [
    {
     "name": "stdout",
     "output_type": "stream",
     "text": [
      "instantiating empty object.\n",
      "Invalid ParseElements ? : 'NoneType' object has no attribute 'tdb'\n"
     ]
    },
    {
     "ename": "TypeError",
     "evalue": "If you didn't parse a particle from an input file, you must supply 'vectors' and 'epoch'.",
     "output_type": "error",
     "traceback": [
      "\u001b[0;31m---------------------------------------------------------------------------\u001b[0m",
      "\u001b[0;31mTypeError\u001b[0m                                 Traceback (most recent call last)",
      "\u001b[0;32m<timed exec>\u001b[0m in \u001b[0;36m<module>\u001b[0;34m\u001b[0m\n",
      "\u001b[0;32m~/Envs/cheby_checker/cheby_checker/mpc_nbody.py\u001b[0m in \u001b[0;36m__call__\u001b[0;34m(self, tstart, tstep, trange, epoch, vectors, covariances, save_output, verbose)\u001b[0m\n\u001b[1;32m    104\u001b[0m \u001b[0;34m\u001b[0m\u001b[0m\n\u001b[1;32m    105\u001b[0m         \u001b[0;32mif\u001b[0m \u001b[0mvectors\u001b[0m \u001b[0;32mis\u001b[0m \u001b[0;32mNone\u001b[0m \u001b[0;32mor\u001b[0m \u001b[0mepoch\u001b[0m \u001b[0;32mis\u001b[0m \u001b[0;32mNone\u001b[0m \u001b[0;34m:\u001b[0m\u001b[0;34m\u001b[0m\u001b[0;34m\u001b[0m\u001b[0m\n\u001b[0;32m--> 106\u001b[0;31m             raise TypeError(\"If you didn't parse a particle from an input \"\n\u001b[0m\u001b[1;32m    107\u001b[0m                                 \"file, you must supply 'vectors' and 'epoch'.\")\n\u001b[1;32m    108\u001b[0m \u001b[0;34m\u001b[0m\u001b[0m\n",
      "\u001b[0;31mTypeError\u001b[0m: If you didn't parse a particle from an input file, you must supply 'vectors' and 'epoch'."
     ]
    }
   ],
   "source": [
    "%%time\n",
    "importlib.reload(mpc_nbody)\n",
    "\n",
    "# Define some files that have data in them \n",
    "filenames = [os.path.join(DATA_DIR, file)\n",
    "              for file in ['30101.eq0_horizons', '30102.eq0_horizons']]\n",
    "\n",
    "# First, let's initiate the class with an input file:\n",
    "Sim = mpc_nbody.NbodySim(filenames[0], 'eq')\n",
    "\n",
    "# Now run the integrator, by calling the object. \n",
    "Sim(tstart=0, tstep=20, trange=600)\n",
    "\n",
    "#The results are all available inside the object now:\n",
    "for item in Sim.__dict__ : print(f'item:type = {item, type(Sim.__dict__[item])} ')"
   ]
  },
  {
   "cell_type": "markdown",
   "metadata": {},
   "source": [
    "### (2b) Use *orbit_cheby*\n",
    " - Load arrays of simulation data into Multi-Sector-Cheby object(s)"
   ]
  },
  {
   "cell_type": "code",
   "execution_count": null,
   "metadata": {},
   "outputs": [],
   "source": [
    "# Use the MSC_Loader to do all of the work to declare and populate a list of MSC objects\n",
    "#\n",
    "MSCs = orbit_cheby.MSC_Loader(FROM_ARRAY = True , \n",
    "                                primary_unpacked_provisional_designations = filenames[0], \n",
    "                                times_TDB = Sim.output_times, \n",
    "                                statearray = Sim.output_vectors).MSCs"
   ]
  },
  {
   "cell_type": "markdown",
   "metadata": {},
   "source": [
    "### (2c) Do pre-calcs and store in db *orbit_cheby*\n",
    " - Uses the chebyshev coeffs in the MSCs to calculate nightly healpix\n",
    " - Stores the chebyshev coeffs & the nightly healpix in a database"
   ]
  },
  {
   "cell_type": "code",
   "execution_count": null,
   "metadata": {},
   "outputs": [],
   "source": [
    "# Declare a \"PreCalc\" object \n",
    "P = precalc.PreCalc()\n",
    "\n",
    "# To make this work, I'll just fudge a fake number for now:\n",
    "# Ugh, why does this think the xyz needs to be shape (3, 20000)?\n",
    "observatoryXYZ = np.zeros([3, 20000])\n",
    "\n",
    "# Do the upsert \n",
    "P.upsert( MSCs , observatoryXYZ)"
   ]
  }
 ],
 "metadata": {
  "kernelspec": {
   "display_name": "Python 3",
   "language": "python",
   "name": "python3"
  },
  "language_info": {
   "codemirror_mode": {
    "name": "ipython",
    "version": 3
   },
   "file_extension": ".py",
   "mimetype": "text/x-python",
   "name": "python",
   "nbconvert_exporter": "python",
   "pygments_lexer": "ipython3",
   "version": "3.8.3"
  }
 },
 "nbformat": 4,
 "nbformat_minor": 4
}
